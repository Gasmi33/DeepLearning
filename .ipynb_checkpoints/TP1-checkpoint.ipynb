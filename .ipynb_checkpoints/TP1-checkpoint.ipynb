{
 "cells": [
  {
   "cell_type": "markdown",
   "id": "c3d3bb7a",
   "metadata": {},
   "source": [
    "Créer un modèle monocouche pour la fonction OU et AND"
   ]
  },
  {
   "cell_type": "code",
   "execution_count": 1,
   "id": "6d2e9e5e",
   "metadata": {},
   "outputs": [],
   "source": [
    "def perceptron_or(x):\n",
    "    net=x[1]+x[0]-1\n",
    "    if net<0 :\n",
    "        return 0\n",
    "    else:\n",
    "        return 1\n",
    "def perceptron_and(x):\n",
    "    net=x[1]+x[0]-2\n",
    "    if net<0 :\n",
    "        return 0\n",
    "    else:\n",
    "        return 1\n"
   ]
  },
  {
   "cell_type": "markdown",
   "id": "f2127095",
   "metadata": {},
   "source": [
    "Créer un modèle avec une couche cachée pour la fonction XOR"
   ]
  },
  {
   "cell_type": "code",
   "execution_count": 2,
   "id": "b4d045b7",
   "metadata": {},
   "outputs": [],
   "source": [
    "def perceptron_xor(x):\n",
    "    net1=x[0]+x[1]\n",
    "    if net1<1 :\n",
    "        a1= 0\n",
    "    else:\n",
    "        a1=1\n",
    "    net2=-x[0]-x[1]\n",
    "    if net2<-1 :\n",
    "        a2= 0\n",
    "    else:\n",
    "        a2=1\n",
    "    if a1+a2<2:\n",
    "        return 0\n",
    "    else:\n",
    "        return 1"
   ]
  },
  {
   "cell_type": "code",
   "execution_count": 3,
   "id": "38a596f6",
   "metadata": {},
   "outputs": [
    {
     "data": {
      "text/plain": [
       "0"
      ]
     },
     "execution_count": 3,
     "metadata": {},
     "output_type": "execute_result"
    }
   ],
   "source": [
    "#tester la fonction \n",
    "x=(1,1)\n",
    "perceptron_xor(x)"
   ]
  },
  {
   "cell_type": "markdown",
   "id": "7697a7ce",
   "metadata": {},
   "source": [
    "Optimiser le modèle par l'algorithme rétropropagation(backpropagation)\n",
    "par modifier les poids et le biais"
   ]
  },
  {
   "cell_type": "code",
   "execution_count": 4,
   "id": "866324d8",
   "metadata": {},
   "outputs": [],
   "source": [
    "def propagation(x,b,a,ws):\n",
    "#appliquer la fonction de propagation\n",
    "    h=ws[0]*x[0]+ws[1]*x[1]+b\n",
    "    if h>0:\n",
    "        h=1\n",
    "    else:\n",
    "        h=0\n",
    "    if perceptron_or(x)==h:\n",
    "        return 1\n",
    "    else:\n",
    "        w=tuple(a*(perceptron_or(x)-h)* i for i in x)\n",
    "        ws=tuple(map(sum,zip(ws,w)))\n",
    "        b=b+a*(perceptron_or(x)-h)\n",
    "        return (ws,b)\n",
    "    "
   ]
  },
  {
   "cell_type": "code",
   "execution_count": 5,
   "id": "f649ce48",
   "metadata": {},
   "outputs": [
    {
     "data": {
      "text/plain": [
       "((-0.5, 0.5), 0.9)"
      ]
     },
     "execution_count": 5,
     "metadata": {},
     "output_type": "execute_result"
    }
   ],
   "source": [
    "#Tester\n",
    "x=(0,0)\n",
    "ws=(-0.5,0.5)\n",
    "propagation(x,1,0.1,ws)"
   ]
  },
  {
   "cell_type": "code",
   "execution_count": 6,
   "id": "b58c1115",
   "metadata": {},
   "outputs": [],
   "source": [
    "liste=[(0,0),(0,1),(1,0),(1,1)]"
   ]
  },
  {
   "cell_type": "code",
   "execution_count": 7,
   "id": "51c79fb5",
   "metadata": {},
   "outputs": [
    {
     "name": "stdout",
     "output_type": "stream",
     "text": [
      "((-0.5, 0.5), 0.9)\n",
      "1\n",
      "1\n",
      "1\n"
     ]
    }
   ],
   "source": [
    "#tester sur une liste de données\n",
    "ws=(-0.5,0.5)\n",
    "a=0.1\n",
    "b=1\n",
    "pr=propagation(x,b,a,ws)\n",
    "for i in liste:\n",
    "    print(propagation(i,b,a,ws))\n",
    "    if propagation(i,b,a,ws) !=1:\n",
    "        ws=propagation(i,b,a,ws)[0]\n",
    "        b=propagation(i,b,a,ws)[1]\n",
    "    \n",
    "        \n",
    "        "
   ]
  },
  {
   "cell_type": "markdown",
   "id": "e127f4e3",
   "metadata": {},
   "source": [
    "importer les bibliotèques nécessaires"
   ]
  },
  {
   "cell_type": "code",
   "execution_count": 8,
   "id": "60af205e",
   "metadata": {},
   "outputs": [],
   "source": [
    "import tensorflow as tf\n",
    "from tensorflow import keras\n",
    "import matplotlib.pyplot as plt\n",
    "%matplotlib inline\n",
    "import numpy as np"
   ]
  },
  {
   "cell_type": "markdown",
   "id": "716f4f2a",
   "metadata": {},
   "source": [
    "charger les données"
   ]
  },
  {
   "cell_type": "code",
   "execution_count": 9,
   "id": "4bdacf00",
   "metadata": {},
   "outputs": [],
   "source": [
    "(x_train, y_train), (x_test, y_test) = keras.datasets.mnist.load_data()"
   ]
  },
  {
   "cell_type": "code",
   "execution_count": 10,
   "id": "c1397e3e",
   "metadata": {},
   "outputs": [
    {
     "name": "stdout",
     "output_type": "stream",
     "text": [
      "60000 10000\n"
     ]
    }
   ],
   "source": [
    "print(len(x_train),len(x_test))"
   ]
  },
  {
   "cell_type": "code",
   "execution_count": 11,
   "id": "61d38c41",
   "metadata": {},
   "outputs": [
    {
     "data": {
      "text/plain": [
       "<matplotlib.image.AxesImage at 0x19c53cf2040>"
      ]
     },
     "execution_count": 11,
     "metadata": {},
     "output_type": "execute_result"
    },
    {
     "data": {
      "image/png": "[encoded data removed]",
      "text/plain": [
       "<Figure size 288x288 with 1 Axes>"
      ]
     },
     "metadata": {
      "needs_background": "light"
     },
     "output_type": "display_data"
    }
   ],
   "source": [
    "plt.matshow(x_test[0])"
   ]
  },
  {
   "cell_type": "code",
   "execution_count": 12,
   "id": "189fab09",
   "metadata": {},
   "outputs": [
    {
     "data": {
      "text/plain": [
       "7"
      ]
     },
     "execution_count": 12,
     "metadata": {},
     "output_type": "execute_result"
    }
   ],
   "source": [
    "y_test[0]"
   ]
  },
  {
   "cell_type": "markdown",
   "id": "9f6ee795",
   "metadata": {},
   "source": [
    "rendre les données plats pour l'apprentissage"
   ]
  },
  {
   "cell_type": "code",
   "execution_count": 13,
   "id": "4e8ce734",
   "metadata": {},
   "outputs": [],
   "source": [
    "x_train = x_train / 255\n",
    "x_test = x_test / 255\n",
    "# Flattening the train and test data\n",
    "x_train_plat = x_train.reshape(len(x_train), 28*28)\n",
    "x_test_plat = x_test.reshape(len(x_test), 28*28)"
   ]
  },
  {
   "cell_type": "code",
   "execution_count": 14,
   "id": "eda37a24",
   "metadata": {},
   "outputs": [
    {
     "name": "stdout",
     "output_type": "stream",
     "text": [
      "Epoch 1/4\n",
      "1875/1875 [==============================] - 8s 3ms/step - loss: 0.2713 - accuracy: 0.9230\n",
      "Epoch 2/4\n",
      "1875/1875 [==============================] - 6s 3ms/step - loss: 0.1202 - accuracy: 0.9647\n",
      "Epoch 3/4\n",
      "1875/1875 [==============================] - 4s 2ms/step - loss: 0.0842 - accuracy: 0.9752\n",
      "Epoch 4/4\n",
      "1875/1875 [==============================] - 4s 2ms/step - loss: 0.0642 - accuracy: 0.9803\n"
     ]
    },
    {
     "data": {
      "text/plain": [
       "<keras.callbacks.History at 0x19c503a3ac0>"
      ]
     },
     "execution_count": 14,
     "metadata": {},
     "output_type": "execute_result"
    }
   ],
   "source": [
    "#creer un model avec une seule couche cachée de \n",
    "model1 = keras.Sequential([\n",
    "    keras.layers.Dense(100, activation='relu'),\n",
    "    keras.layers.Dense(10,  activation='softmax')\n",
    "    \n",
    "                            ])\n",
    "model1.compile(\n",
    "    optimizer='adam',\n",
    "    loss='sparse_categorical_crossentropy',\n",
    "    metrics=['accuracy']\n",
    ")\n",
    "model1.fit(x_train_plat, y_train, epochs=4)\n"
   ]
  },
  {
   "cell_type": "markdown",
   "id": "06d89dbf",
   "metadata": {},
   "source": [
    "on fait varier les parametres : nombre de couches cachées, nombre des neurons, nombre des epochs(combien de fois on passe sur les données d'apprentissage) et aussi la fonction d'activation dans le but de trouver le meilleur score\n",
    "avec optimisation par backpropagation"
   ]
  },
  {
   "cell_type": "code",
   "execution_count": 15,
   "id": "44639eae",
   "metadata": {},
   "outputs": [],
   "source": [
    "\n",
    "model = keras.Sequential([\n",
    "    keras.layers.Dense(400, activation='relu'),\n",
    "    keras.layers.Dense(400, activation='softmax'),\n",
    "    keras.layers.Dense(400, activation='sigmoid'),\n",
    "    keras.layers.Dense(400, activation='sigmoid'),\n",
    "    keras.layers.Dense(10,  activation='softmax')\n",
    "    \n",
    " #optimiser par backpropagation   \n",
    "                            ])\n",
    "model.compile(\n",
    "    optimizer='adam',\n",
    "    loss='sparse_categorical_crossentropy',\n",
    "    metrics=['accuracy']\n",
    ")\n"
   ]
  },
  {
   "cell_type": "code",
   "execution_count": null,
   "id": "f23fd318",
   "metadata": {},
   "outputs": [
    {
     "name": "stdout",
     "output_type": "stream",
     "text": [
      "Epoch 1/7\n",
      " 684/1875 [=========>....................] - ETA: 12s - loss: 1.6171 - accuracy: 0.3416"
     ]
    }
   ],
   "source": [
    "#faire l'apprentissage\n",
    "model.fit(x_train_plat, y_train, epochs=7)"
   ]
  },
  {
   "cell_type": "markdown",
   "id": "c644818d",
   "metadata": {},
   "source": [
    "évaluer le modèle"
   ]
  },
  {
   "cell_type": "code",
   "execution_count": null,
   "id": "693faa96",
   "metadata": {},
   "outputs": [],
   "source": [
    "model.evaluate(x_test_plat, y_test)"
   ]
  },
  {
   "cell_type": "markdown",
   "id": "f7edeb6e",
   "metadata": {},
   "source": [
    "faire les predictions sur 5 données de test"
   ]
  },
  {
   "cell_type": "code",
   "execution_count": null,
   "id": "ade5d637",
   "metadata": {},
   "outputs": [],
   "source": [
    "y_predicted = model.predict(x_test_plat)\n",
    "y_predicted_labels = [np.argmax(i) for i in y_predicted]\n",
    "y_predicted_labels[:5]"
   ]
  },
  {
   "cell_type": "code",
   "execution_count": null,
   "id": "a068e339",
   "metadata": {},
   "outputs": [],
   "source": [
    "y_test[:5]"
   ]
  },
  {
   "cell_type": "markdown",
   "id": "e9befd25",
   "metadata": {},
   "source": [
    "On remarque que le modèle a fait une bonne prédiction"
   ]
  },
  {
   "cell_type": "markdown",
   "id": "f5b2c34a",
   "metadata": {},
   "source": [
    "Afficher la matrice de confusion"
   ]
  },
  {
   "cell_type": "code",
   "execution_count": null,
   "id": "1db757c5",
   "metadata": {},
   "outputs": [],
   "source": [
    "cm = tf.math.confusion_matrix(labels=y_test, predictions=y_predicted_labels)\n",
    "cm"
   ]
  },
  {
   "cell_type": "code",
   "execution_count": 134,
   "id": "28640cc8",
   "metadata": {},
   "outputs": [
    {
     "data": {
      "text/plain": [
       "Text(69.0, 0.5, 'Truth')"
      ]
     },
     "execution_count": 134,
     "metadata": {},
     "output_type": "execute_result"
    },
    {
     "data": {
      "image/png": "[encoded data removed]",
      "text/plain": [
       "<Figure size 720x504 with 2 Axes>"
      ]
     },
     "metadata": {
      "needs_background": "light"
     },
     "output_type": "display_data"
    }
   ],
   "source": [
    "import seaborn as sn\n",
    "plt.figure(figsize = (10,7))\n",
    "sn.heatmap(cm, annot=True, fmt='d')\n",
    "plt.xlabel('Predicted')\n",
    "plt.ylabel('Truth')"
   ]
  },
  {
   "cell_type": "code",
   "execution_count": 135,
   "id": "a1e476d9",
   "metadata": {},
   "outputs": [],
   "source": [
    "import cv2"
   ]
  },
  {
   "cell_type": "code",
   "execution_count": 137,
   "id": "5aabc87c",
   "metadata": {},
   "outputs": [],
   "source": [
    "(x_train, y_train), (x_test, y_test) = keras.datasets.mnist.load_data()\n"
   ]
  },
  {
   "cell_type": "code",
   "execution_count": 138,
   "id": "ddb62385",
   "metadata": {},
   "outputs": [],
   "source": [
    "f_train=x_train\n",
    "f_test=x_test\n"
   ]
  },
  {
   "cell_type": "markdown",
   "id": "08fbd1a5",
   "metadata": {},
   "source": [
    "appliquer un filtre median de 5 pour voir l'impact"
   ]
  },
  {
   "cell_type": "code",
   "execution_count": 139,
   "id": "3167e923",
   "metadata": {},
   "outputs": [],
   "source": [
    "from skimage.filters import median\n",
    "for i in range(len(x_test)):\n",
    "    f_test[i]=cv2.medianBlur(x_test[i],5)\n",
    "for i in range(len(x_train)):\n",
    "    f_train[i]=cv2.medianBlur(x_train[i],5)\n",
    "     \n"
   ]
  },
  {
   "cell_type": "markdown",
   "id": "a580d26b",
   "metadata": {},
   "source": [
    "Plater les données"
   ]
  },
  {
   "cell_type": "code",
   "execution_count": 140,
   "id": "b30c2c4a",
   "metadata": {},
   "outputs": [],
   "source": [
    "f_train = f_train / 255\n",
    "f_test = f_test / 255\n",
    "f_test_plat = f_test.reshape(len(f_test), 28*28)\n",
    "f_train_plat = f_train.reshape(len(f_train), 28*28)"
   ]
  },
  {
   "cell_type": "markdown",
   "id": "643e0ca3",
   "metadata": {},
   "source": [
    "Utiliser un modèle avec les meme paramètres que le précédent"
   ]
  },
  {
   "cell_type": "code",
   "execution_count": 141,
   "id": "2ad0fd9e",
   "metadata": {},
   "outputs": [],
   "source": [
    "model_filtre = keras.Sequential([\n",
    "    keras.layers.Dense(400, activation='relu'),\n",
    "    keras.layers.Dense(400, activation='softmax'),\n",
    "    keras.layers.Dense(400, activation='sigmoid'),\n",
    "    keras.layers.Dense(400, activation='sigmoid'),\n",
    "    keras.layers.Dense(10,  activation='softmax')\n",
    "    \n",
    " #optimiser par backpropagation   \n",
    "                            ])\n",
    "model_filtre.compile(\n",
    "    optimizer='adam',\n",
    "    loss='sparse_categorical_crossentropy',\n",
    "    metrics=['accuracy']\n",
    ")\n"
   ]
  },
  {
   "cell_type": "code",
   "execution_count": 143,
   "id": "5a6e70f2",
   "metadata": {},
   "outputs": [
    {
     "name": "stdout",
     "output_type": "stream",
     "text": [
      "Epoch 1/7\n",
      "1875/1875 [==============================] - 23s 11ms/step - loss: 1.0162 - accuracy: 0.6071\n",
      "Epoch 2/7\n",
      "1875/1875 [==============================] - 22s 12ms/step - loss: 0.3221 - accuracy: 0.9114\n",
      "Epoch 3/7\n",
      "1875/1875 [==============================] - 23s 12ms/step - loss: 0.2176 - accuracy: 0.9385\n",
      "Epoch 4/7\n",
      "1875/1875 [==============================] - 22s 12ms/step - loss: 0.1759 - accuracy: 0.9496\n",
      "Epoch 5/7\n",
      "1875/1875 [==============================] - 22s 12ms/step - loss: 0.1452 - accuracy: 0.9578\n",
      "Epoch 6/7\n",
      "1875/1875 [==============================] - 22s 12ms/step - loss: 0.1271 - accuracy: 0.9628\n",
      "Epoch 7/7\n",
      "1875/1875 [==============================] - 22s 12ms/step - loss: 0.1110 - accuracy: 0.9677\n"
     ]
    },
    {
     "data": {
      "text/plain": [
       "<keras.callbacks.History at 0x1e168737820>"
      ]
     },
     "execution_count": 143,
     "metadata": {},
     "output_type": "execute_result"
    }
   ],
   "source": [
    "model_filtre.fit(f_train_plat, y_train, epochs=7)"
   ]
  },
  {
   "cell_type": "code",
   "execution_count": 144,
   "id": "eeb6e111",
   "metadata": {},
   "outputs": [
    {
     "name": "stdout",
     "output_type": "stream",
     "text": [
      "313/313 [==============================] - 3s 8ms/step - loss: 0.1779 - accuracy: 0.9519\n"
     ]
    },
    {
     "data": {
      "text/plain": [
       "[0.17791809141635895, 0.9519000053405762]"
      ]
     },
     "execution_count": 144,
     "metadata": {},
     "output_type": "execute_result"
    }
   ],
   "source": [
    "model_filtre.evaluate(f_test_plat, y_test)"
   ]
  },
  {
   "cell_type": "code",
   "execution_count": 146,
   "id": "c2ed5ef7",
   "metadata": {},
   "outputs": [
    {
     "name": "stdout",
     "output_type": "stream",
     "text": [
      "313/313 [==============================] - 3s 8ms/step - loss: 0.1371 - accuracy: 0.9652\n"
     ]
    },
    {
     "data": {
      "text/plain": [
       "[0.13707886636257172, 0.9652000069618225]"
      ]
     },
     "execution_count": 146,
     "metadata": {},
     "output_type": "execute_result"
    }
   ],
   "source": [
    "model.evaluate(x_test_plat, y_test)"
   ]
  },
  {
   "cell_type": "markdown",
   "id": "de1629ea",
   "metadata": {},
   "source": [
    "on remarque que le perfermance se diminue en appliquant le filtre "
   ]
  },
  {
   "cell_type": "markdown",
   "id": "16acd457",
   "metadata": {},
   "source": [
    "Faire changer la base de données"
   ]
  },
  {
   "cell_type": "code",
   "execution_count": 164,
   "id": "170ab159",
   "metadata": {},
   "outputs": [],
   "source": [
    "(fashion_train, fash_train), (fashion_test, fash_test) = keras.datasets.fashion_mnist.load_data();"
   ]
  },
  {
   "cell_type": "code",
   "execution_count": 165,
   "id": "d38b6bd1",
   "metadata": {},
   "outputs": [],
   "source": [
    "fashion_train = fashion_train / 255\n",
    "fashion_test = fashion_test / 255\n",
    "# Flattening the train and test data\n",
    "fash_train_plat = fashion_train.reshape(len(fashion_train), 28*28)\n",
    "fash_test_plat = fashion_test.reshape(len(fashion_test), 28*28)"
   ]
  },
  {
   "cell_type": "markdown",
   "id": "9c56f854",
   "metadata": {},
   "source": [
    "Utiliser le modèle utilisé pour MNIST"
   ]
  },
  {
   "cell_type": "code",
   "execution_count": 166,
   "id": "ed9db63c",
   "metadata": {},
   "outputs": [],
   "source": [
    "model_fashion = keras.Sequential([\n",
    "    keras.layers.Dense(400, activation='relu'),\n",
    "    keras.layers.Dense(400, activation='softmax'),\n",
    "    keras.layers.Dense(400, activation='sigmoid'),\n",
    "    keras.layers.Dense(400, activation='sigmoid'),\n",
    "    keras.layers.Dense(10,  activation='softmax')\n",
    "    \n",
    " #optimiser par backpropagation   \n",
    "                            ])\n",
    "model_fashion.compile(\n",
    "    optimizer='adam',\n",
    "    loss='sparse_categorical_crossentropy',\n",
    "    metrics=['accuracy']\n",
    ")"
   ]
  },
  {
   "cell_type": "code",
   "execution_count": 167,
   "id": "d462c3fe",
   "metadata": {},
   "outputs": [
    {
     "name": "stdout",
     "output_type": "stream",
     "text": [
      "Epoch 1/7\n",
      "1875/1875 [==============================] - 25s 13ms/step - loss: 1.0550 - accuracy: 0.5767\n",
      "Epoch 2/7\n",
      "1875/1875 [==============================] - 23s 12ms/step - loss: 0.5164 - accuracy: 0.7998\n",
      "Epoch 3/7\n",
      "1875/1875 [==============================] - 23s 12ms/step - loss: 0.4164 - accuracy: 0.8546\n",
      "Epoch 4/7\n",
      "1875/1875 [==============================] - 23s 12ms/step - loss: 0.3682 - accuracy: 0.8719\n",
      "Epoch 5/7\n",
      "1875/1875 [==============================] - 23s 12ms/step - loss: 0.3391 - accuracy: 0.8811\n",
      "Epoch 6/7\n",
      "1875/1875 [==============================] - 23s 12ms/step - loss: 0.3201 - accuracy: 0.8862\n",
      "Epoch 7/7\n",
      "1875/1875 [==============================] - 23s 12ms/step - loss: 0.3076 - accuracy: 0.8906\n"
     ]
    },
    {
     "data": {
      "text/plain": [
       "<keras.callbacks.History at 0x1e14f021cd0>"
      ]
     },
     "execution_count": 167,
     "metadata": {},
     "output_type": "execute_result"
    }
   ],
   "source": [
    "#faire l'apprentissage\n",
    "model_fashion.fit(fash_train_plat, fash_train, epochs=7)"
   ]
  },
  {
   "cell_type": "code",
   "execution_count": 169,
   "id": "0b8186ba",
   "metadata": {},
   "outputs": [
    {
     "name": "stdout",
     "output_type": "stream",
     "text": [
      "313/313 [==============================] - 3s 8ms/step - loss: 0.3653 - accuracy: 0.8725\n"
     ]
    },
    {
     "data": {
      "text/plain": [
       "[0.36530739068984985, 0.8725000023841858]"
      ]
     },
     "execution_count": 169,
     "metadata": {},
     "output_type": "execute_result"
    }
   ],
   "source": [
    "model_fashion.evaluate(fash_test_plat, fash_test)"
   ]
  }
 ],
 "metadata": {
  "kernelspec": {
   "display_name": "Python 3 (ipykernel)",
   "language": "python",
   "name": "python3"
  },
  "language_info": {
   "codemirror_mode": {
    "name": "ipython",
    "version": 3
   },
   "file_extension": ".py",
   "mimetype": "text/x-python",
   "name": "python",
   "nbconvert_exporter": "python",
   "pygments_lexer": "ipython3",
   "version": "3.9.7"
  }
 },
 "nbformat": 4,
 "nbformat_minor": 5
}
